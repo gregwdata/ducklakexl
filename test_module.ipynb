{
 "cells": [
  {
   "cell_type": "code",
   "execution_count": 1,
   "metadata": {},
   "outputs": [],
   "source": [
    "%load_ext autoreload\n",
    "%autoreload 2"
   ]
  },
  {
   "cell_type": "code",
   "execution_count": 2,
   "metadata": {},
   "outputs": [],
   "source": [
    "from dotenv import load_dotenv\n",
    "import os\n",
    "import nest_asyncio # needed when calling from Jupyter\n",
    "nest_asyncio.apply()\n",
    "load_dotenv()\n",
    "MY_TEST_ONEDRIVE_PATH = os.getenv('MY_TEST_ONEDRIVE_PATH')"
   ]
  },
  {
   "cell_type": "code",
   "execution_count": 3,
   "metadata": {},
   "outputs": [],
   "source": [
    "from ducklakexl import DuckLakeXL"
   ]
  },
  {
   "cell_type": "code",
   "execution_count": 4,
   "metadata": {},
   "outputs": [
    {
     "name": "stdout",
     "output_type": "stream",
     "text": [
      "Authentication successful.\n"
     ]
    }
   ],
   "source": [
    "test = DuckLakeXL(\n",
    "    excel_path=MY_TEST_ONEDRIVE_PATH,\n",
    "    data_path='./test/',\n",
    "    ducklake_name='my_excel_ducklake',\n",
    ")"
   ]
  },
  {
   "cell_type": "code",
   "execution_count": 5,
   "metadata": {},
   "outputs": [
    {
     "name": "stdout",
     "output_type": "stream",
     "text": [
      "┌───────┬─────────┐\n",
      "│  id   │   val   │\n",
      "│ int32 │ varchar │\n",
      "├───────┼─────────┤\n",
      "│     1 │ alpha   │\n",
      "│     2 │ beta    │\n",
      "│     4 │ delta   │\n",
      "│     5 │ epsilon │\n",
      "└───────┴─────────┘\n",
      "\n"
     ]
    }
   ],
   "source": [
    "test.sql(\"\"\"USE my_excel_ducklake;\n",
    "            INSERT INTO my_table VALUES\n",
    "            (5, 'epsilon');   \n",
    "            SELECT * FROM my_table;            \n",
    "            \"\"\").show()"
   ]
  },
  {
   "cell_type": "code",
   "execution_count": 6,
   "metadata": {},
   "outputs": [
    {
     "name": "stdout",
     "output_type": "stream",
     "text": [
      "File test/ducklake_test_2025-06-12_23-12-57.xlsx not found. Attempting to create...\n",
      "File test/ducklake_test_2025-06-12_23-12-57.xlsx created!\n"
     ]
    }
   ],
   "source": [
    "test2 = DuckLakeXL(\n",
    "    excel_path='test/ducklake_test_2025-06-12_23-12-57.xlsx',\n",
    "    data_path='./test/',\n",
    "    ducklake_name='my_excel_ducklake',\n",
    "    local_catalog = 'local_excel.ducklake'\n",
    ")"
   ]
  },
  {
   "cell_type": "code",
   "execution_count": 7,
   "metadata": {},
   "outputs": [],
   "source": [
    "test2.sql(\"\"\"USE my_excel_ducklake;\n",
    "            CREATE TABLE my_table(id INTEGER, val VARCHAR);\n",
    "            INSERT INTO my_table VALUES\n",
    "                (1, 'alpha'),\n",
    "                (2, 'beta'),\n",
    "                (3, 'gamma'),\n",
    "                (4, 'delta');               \n",
    "               \"\"\")"
   ]
  },
  {
   "cell_type": "code",
   "execution_count": 8,
   "metadata": {},
   "outputs": [
    {
     "name": "stdout",
     "output_type": "stream",
     "text": [
      "┌───────┬─────────┐\n",
      "│  id   │   val   │\n",
      "│ int32 │ varchar │\n",
      "├───────┼─────────┤\n",
      "│     1 │ alpha   │\n",
      "│     2 │ beta    │\n",
      "│     3 │ gamma   │\n",
      "│     4 │ delta   │\n",
      "└───────┴─────────┘\n",
      "\n"
     ]
    }
   ],
   "source": [
    "test2.sql(\"\"\" SELECT * FROM my_table \"\"\").show()"
   ]
  },
  {
   "cell_type": "code",
   "execution_count": 9,
   "metadata": {},
   "outputs": [
    {
     "name": "stdout",
     "output_type": "stream",
     "text": [
      "┌───────┬─────────┐\n",
      "│  id   │   val   │\n",
      "│ int32 │ varchar │\n",
      "├───────┼─────────┤\n",
      "│     1 │ alpha   │\n",
      "│     2 │ beta    │\n",
      "│     4 │ delta   │\n",
      "│     5 │ epsilon │\n",
      "└───────┴─────────┘\n",
      "\n"
     ]
    }
   ],
   "source": [
    "test2.sql(\"\"\"DELETE FROM my_table where val='gamma';\n",
    "            INSERT INTO my_table VALUES\n",
    "            (5, 'epsilon');   \n",
    "            SELECT * FROM my_table;            \n",
    "            \"\"\").show()"
   ]
  }
 ],
 "metadata": {
  "kernelspec": {
   "display_name": ".venv",
   "language": "python",
   "name": "python3"
  },
  "language_info": {
   "codemirror_mode": {
    "name": "ipython",
    "version": 3
   },
   "file_extension": ".py",
   "mimetype": "text/x-python",
   "name": "python",
   "nbconvert_exporter": "python",
   "pygments_lexer": "ipython3",
   "version": "3.13.1"
  }
 },
 "nbformat": 4,
 "nbformat_minor": 2
}
